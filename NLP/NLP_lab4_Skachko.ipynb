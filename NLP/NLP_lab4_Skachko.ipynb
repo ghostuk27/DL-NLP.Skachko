{
 "cells": [
  {
   "cell_type": "code",
   "execution_count": 1,
   "metadata": {},
   "outputs": [
    {
     "name": "stdout",
     "output_type": "stream",
     "text": [
      "*** Introductory Examples for the NLTK Book ***\n",
      "Loading text1, ..., text9 and sent1, ..., sent9\n",
      "Type the name of the text or sentence to view it.\n",
      "Type: 'texts()' or 'sents()' to list the materials.\n",
      "text1: Moby Dick by Herman Melville 1851\n",
      "text2: Sense and Sensibility by Jane Austen 1811\n",
      "text3: The Book of Genesis\n",
      "text4: Inaugural Address Corpus\n",
      "text5: Chat Corpus\n",
      "text6: Monty Python and the Holy Grail\n",
      "text7: Wall Street Journal\n",
      "text8: Personals Corpus\n",
      "text9: The Man Who Was Thursday by G . K . Chesterton 1908\n"
     ]
    }
   ],
   "source": [
    "import nltk\n",
    "from nltk.book import *\n",
    "from nltk.tag import pos_tag\n",
    "from nltk.stem.wordnet import WordNetLemmatizer\n",
    "from nltk.corpus import stopwords\n",
    "import string\n",
    "import warnings\n",
    "import numpy as np\n",
    "import pandas as pd"
   ]
  },
  {
   "cell_type": "code",
   "execution_count": 17,
   "metadata": {},
   "outputs": [],
   "source": [
    "warnings.filterwarnings('ignore')"
   ]
  },
  {
   "cell_type": "code",
   "execution_count": 18,
   "metadata": {},
   "outputs": [],
   "source": [
    "def preprocess_text(text):\n",
    "    cleaned_tokens = []\n",
    "    stop_words = stopwords.words('english')\n",
    "    lemmatizer = WordNetLemmatizer()\n",
    "    text = nltk.word_tokenize(text)\n",
    "    for token, tag in pos_tag(text):\n",
    "        if tag.startswith('NN'):\n",
    "            pos = 'n'\n",
    "        elif tag.startswith('VB'):\n",
    "            pos = 'v'\n",
    "        else:\n",
    "            pos = 'a'\n",
    "        token = lemmatizer.lemmatize(token, pos)\n",
    "        if token not in string.punctuation and token.lower() not in stop_words and ((token.isalpha() and len(token) > 1) or token.isdigit()):\n",
    "            cleaned_tokens.append(token.lower())\n",
    "    return cleaned_tokens"
   ]
  },
  {
   "cell_type": "code",
   "execution_count": 19,
   "metadata": {},
   "outputs": [],
   "source": [
    "def ppmi_matrix(corpus, window_length=0, normalize=False):\n",
    "    fd = FreqDist(nltk.word_tokenize(' '.join([' '.join(corpus[i][j] for j in range(len(corpus[i]))) for i in range(len(corpus))])))\n",
    "    fd_keys = list(fd.keys())\n",
    "    corp_list = [word for sublist in corpus for word in sublist]\n",
    "    if window_length > 0:\n",
    "        w_dict = {w: np.array([1 if w in doc else 0 for doc in [fd_keys[i:i+window_length] for i in range(len(corp_list))] + [fd_keys[j:j-window_length] for j in range(len(corp_list), 0, -1)]]) for w in corp_list}\n",
    "    else: \n",
    "        w_dict = {w: np.array([1 if w in doc else 0 for doc in corpus]) for w in corp_list}\n",
    "        \n",
    "    term_term_matrix = np.zeros((len(fd_keys), len(fd_keys)))\n",
    "    if not normalize:\n",
    "        for i, w in enumerate(fd_keys):\n",
    "            for j, c in enumerate(fd_keys):\n",
    "                term_term_matrix[i, j] = round(pmi(w,c), 2)\n",
    "    else:\n",
    "        for i, w in enumerate(fd_keys):\n",
    "            for j, c in enumerate(fd_keys):\n",
    "                term_term_matrix[i, j] = round(1/(1+(np.exp(-(pmi(w,c))))), 2) \n",
    "                \n",
    "    def n(w, c):\n",
    "        return np.sum(w_dict[w]*w_dict[c])\n",
    "    denominator = 0\n",
    "    counter = 0\n",
    "    for w in fd_keys:\n",
    "        denominator += counter\n",
    "        counter = 0\n",
    "        for c in fd_keys:\n",
    "            counter += n(w, c)\n",
    "\n",
    "    def p_ij(w, c):\n",
    "        return n(w, c)/denominator\n",
    "\n",
    "    def p_i(w):\n",
    "        return sum([n(w, c) for c in fd_keys])/denominator\n",
    "    \n",
    "    def p_j(c):\n",
    "        return sum([n(w, c) for w in fd_keys])/denominator\n",
    "\n",
    "    def pmi(w, c):\n",
    "        return max(np.log2((p_ij(w,c))/(p_i(w)*p_j(c))), 0)\n",
    "    \n",
    "    return pd.DataFrame(term_term_matrix, columns=fd_keys, index=fd_keys)"
   ]
  },
  {
   "cell_type": "markdown",
   "metadata": {},
   "source": [
    "##### З цими текстами не так довго як з іншими бо на інших ppmi_paragraph грузив тільки годину, боюсь уявити, що було б з sliding window"
   ]
  },
  {
   "cell_type": "code",
   "execution_count": 20,
   "metadata": {},
   "outputs": [],
   "source": [
    "text_2 = pre_process_text(\" \".join(text2))\n",
    "text_3 = pre_process_text(\" \".join(text3))\n",
    "text_7 = pre_process_text(\" \".join(text7))\n",
    "text_9 = pre_process_text(\" \".join(text9))"
   ]
  },
  {
   "cell_type": "code",
   "execution_count": 21,
   "metadata": {},
   "outputs": [],
   "source": [
    "corpus = [text_2[:int(round(len(text_2)/300))], text_7[:int(round(len(text_7)/300))], text_3[:int(round(len(text_3)/300))], text_9[:int(round(len(text_9)/300))]] "
   ]
  },
  {
   "cell_type": "markdown",
   "metadata": {},
   "source": [
    "## paragraph"
   ]
  },
  {
   "cell_type": "code",
   "execution_count": 24,
   "metadata": {},
   "outputs": [
    {
     "name": "stdout",
     "output_type": "stream",
     "text": [
      "PPMI with paragraph context:\n",
      "             sense  sensibility  jane  austen  1811  chapter     1  family  \\\n",
      "sense         1.05         1.05  1.05    1.05  1.05     1.05  1.05    1.05   \n",
      "sensibility   1.05         1.05  1.05    1.05  1.05     1.05  1.05    1.05   \n",
      "jane          1.05         1.05  1.05    1.05  1.05     1.05  1.05    1.05   \n",
      "austen        1.05         1.05  1.05    1.05  1.05     1.05  1.05    1.05   \n",
      "1811          1.05         1.05  1.05    1.05  1.05     1.05  1.05    1.05   \n",
      "...            ...          ...   ...     ...   ...      ...   ...     ...   \n",
      "hymn          0.00         0.00  0.00    0.00  0.00     0.00  0.00    0.00   \n",
      "children      0.00         0.00  0.00    0.00  0.00     0.00  0.00    0.00   \n",
      "fort          0.00         0.00  0.00    0.00  0.00     0.00  0.00    0.00   \n",
      "sand          0.00         0.00  0.00    0.00  0.00     0.00  0.00    0.00   \n",
      "eve           0.00         0.00  0.00    0.00  0.00     0.00  0.00    0.00   \n",
      "\n",
      "             dashwood  long  ...  thus  fail  black  baal  block  hymn  \\\n",
      "sense            1.05  1.05  ...  0.00  0.00   0.00  0.00   0.00  0.00   \n",
      "sensibility      1.05  1.05  ...  0.00  0.00   0.00  0.00   0.00  0.00   \n",
      "jane             1.05  1.05  ...  0.00  0.00   0.00  0.00   0.00  0.00   \n",
      "austen           1.05  1.05  ...  0.00  0.00   0.00  0.00   0.00  0.00   \n",
      "1811             1.05  1.05  ...  0.00  0.00   0.00  0.00   0.00  0.00   \n",
      "...               ...   ...  ...   ...   ...    ...   ...    ...   ...   \n",
      "hymn             0.00  0.00  ...  2.53  2.53   2.53  2.53   2.53  2.53   \n",
      "children         0.00  0.00  ...  2.53  2.53   2.53  2.53   2.53  2.53   \n",
      "fort             0.00  0.00  ...  2.53  2.53   2.53  2.53   2.53  2.53   \n",
      "sand             0.00  0.00  ...  2.53  2.53   2.53  2.53   2.53  2.53   \n",
      "eve              0.00  0.00  ...  2.53  2.53   2.53  2.53   2.53  2.53   \n",
      "\n",
      "             children  fort  sand   eve  \n",
      "sense            0.00  0.00  0.00  0.00  \n",
      "sensibility      0.00  0.00  0.00  0.00  \n",
      "jane             0.00  0.00  0.00  0.00  \n",
      "austen           0.00  0.00  0.00  0.00  \n",
      "1811             0.00  0.00  0.00  0.00  \n",
      "...               ...   ...   ...   ...  \n",
      "hymn             2.53  2.53  2.53  2.53  \n",
      "children         2.53  2.53  2.53  2.53  \n",
      "fort             2.53  2.53  2.53  2.53  \n",
      "sand             2.53  2.53  2.53  2.53  \n",
      "eve              2.53  2.53  2.53  2.53  \n",
      "\n",
      "[336 rows x 336 columns]\n"
     ]
    }
   ],
   "source": [
    "ppmi_paragraph = ppmi_matrix(corpus)\n",
    "print(\"PPMI with paragraph context:\")\n",
    "print(ppmi_paragraph)"
   ]
  },
  {
   "cell_type": "markdown",
   "metadata": {},
   "source": [
    " ## sliding window(2)"
   ]
  },
  {
   "cell_type": "code",
   "execution_count": 22,
   "metadata": {},
   "outputs": [
    {
     "name": "stdout",
     "output_type": "stream",
     "text": [
      "\n",
      "PPMI with sliding window length 2:\n",
      "             sense  sensibility  jane  austen  1811  chapter    1  family  \\\n",
      "sense        14.78         7.38  0.00    0.00  0.00     0.00  0.0     0.0   \n",
      "sensibility   7.38         1.57  0.98    0.00  0.00     0.00  0.0     0.0   \n",
      "jane          0.00         0.98  1.57    0.98  0.00     0.00  0.0     0.0   \n",
      "austen        0.00         0.00  0.98    1.57  0.98     0.00  0.0     0.0   \n",
      "1811          0.00         0.00  0.00    0.98  1.57     0.98  0.0     0.0   \n",
      "...            ...          ...   ...     ...   ...      ...  ...     ...   \n",
      "hymn          0.00         0.00  0.00    0.00  0.00     0.00  0.0     0.0   \n",
      "children      0.00         0.00  0.00    0.00  0.00     0.00  0.0     0.0   \n",
      "fort          0.00         0.00  0.00    0.00  0.00     0.00  0.0     0.0   \n",
      "sand          0.00         0.00  0.00    0.00  0.00     0.00  0.0     0.0   \n",
      "eve           0.00         0.00  0.00    0.00  0.00     0.00  0.0     0.0   \n",
      "\n",
      "             dashwood  long  ...  thus  fail  black  baal  block  hymn  \\\n",
      "sense             0.0   0.0  ...   0.0   0.0    0.0   0.0   0.00  0.00   \n",
      "sensibility       0.0   0.0  ...   0.0   0.0    0.0   0.0   0.00  0.00   \n",
      "jane              0.0   0.0  ...   0.0   0.0    0.0   0.0   0.00  0.00   \n",
      "austen            0.0   0.0  ...   0.0   0.0    0.0   0.0   0.00  0.00   \n",
      "1811              0.0   0.0  ...   0.0   0.0    0.0   0.0   0.00  0.00   \n",
      "...               ...   ...  ...   ...   ...    ...   ...    ...   ...   \n",
      "hymn              0.0   0.0  ...   0.0   0.0    0.0   0.0   0.98  1.57   \n",
      "children          0.0   0.0  ...   0.0   0.0    0.0   0.0   0.00  0.98   \n",
      "fort              0.0   0.0  ...   0.0   0.0    0.0   0.0   0.00  0.00   \n",
      "sand              0.0   0.0  ...   0.0   0.0    0.0   0.0   0.00  0.00   \n",
      "eve               0.0   0.0  ...   0.0   0.0    0.0   0.0   0.00  0.00   \n",
      "\n",
      "             children  fort  sand    eve  \n",
      "sense            0.00  0.00  0.00   0.00  \n",
      "sensibility      0.00  0.00  0.00   0.00  \n",
      "jane             0.00  0.00  0.00   0.00  \n",
      "austen           0.00  0.00  0.00   0.00  \n",
      "1811             0.00  0.00  0.00   0.00  \n",
      "...               ...   ...   ...    ...  \n",
      "hymn             0.98  0.00  0.00   0.00  \n",
      "children         1.57  0.98  0.00   0.00  \n",
      "fort             0.98  1.57  0.98   0.00  \n",
      "sand             0.00  0.98  1.57   6.80  \n",
      "eve              0.00  0.00  6.80  14.61  \n",
      "\n",
      "[336 rows x 336 columns]\n"
     ]
    }
   ],
   "source": [
    "ppmi_sliding_window_2 = ppmi_matrix(corpus, 2)\n",
    "print(\"\\nPPMI with sliding window length 2:\")\n",
    "print(ppmi_sliding_window_2)\n"
   ]
  },
  {
   "cell_type": "markdown",
   "metadata": {},
   "source": [
    "## sliding window (5)"
   ]
  },
  {
   "cell_type": "code",
   "execution_count": 23,
   "metadata": {},
   "outputs": [
    {
     "name": "stdout",
     "output_type": "stream",
     "text": [
      "\n",
      "PPMI with sliding window length 5:\n",
      "             sense  sensibility  jane  austen  1811  chapter     1  family  \\\n",
      "sense        14.12         8.03  7.04    6.46  6.05     0.00  0.00    0.00   \n",
      "sensibility   8.03         3.53  2.54    1.96  1.54     0.96  0.00    0.00   \n",
      "jane          7.04         2.54  2.28    1.70  1.29     0.97  0.55    0.00   \n",
      "austen        6.46         1.96  1.70    1.61  1.19     0.97  0.71    0.39   \n",
      "1811          6.05         1.54  1.29    1.19  1.14     0.97  0.78    0.56   \n",
      "...            ...          ...   ...     ...   ...      ...   ...     ...   \n",
      "hymn          0.00         0.00  0.00    0.00  0.00     0.00  0.00    0.00   \n",
      "children      0.00         0.00  0.00    0.00  0.00     0.00  0.00    0.00   \n",
      "fort          0.00         0.00  0.00    0.00  0.00     0.00  0.00    0.00   \n",
      "sand          0.00         0.00  0.00    0.00  0.00     0.00  0.00    0.00   \n",
      "eve           0.00         0.00  0.00    0.00  0.00     0.00  0.00    0.00   \n",
      "\n",
      "             dashwood  long  ...  thus  fail  black  baal  block  hymn  \\\n",
      "sense             0.0   0.0  ...   0.0   0.0   0.00  0.00   0.00  0.00   \n",
      "sensibility       0.0   0.0  ...   0.0   0.0   0.00  0.00   0.00  0.00   \n",
      "jane              0.0   0.0  ...   0.0   0.0   0.00  0.00   0.00  0.00   \n",
      "austen            0.0   0.0  ...   0.0   0.0   0.00  0.00   0.00  0.00   \n",
      "1811              0.3   0.0  ...   0.0   0.0   0.00  0.00   0.00  0.00   \n",
      "...               ...   ...  ...   ...   ...    ...   ...    ...   ...   \n",
      "hymn              0.0   0.0  ...   0.0   0.3   0.56  0.78   0.97  1.14   \n",
      "children          0.0   0.0  ...   0.0   0.0   0.38  0.70   0.97  1.19   \n",
      "fort              0.0   0.0  ...   0.0   0.0   0.00  0.54   0.95  1.27   \n",
      "sand              0.0   0.0  ...   0.0   0.0   0.00  0.00   0.92  1.50   \n",
      "eve               0.0   0.0  ...   0.0   0.0   0.00  0.00   0.00  4.46   \n",
      "\n",
      "             children  fort  sand    eve  \n",
      "sense            0.00  0.00  0.00   0.00  \n",
      "sensibility      0.00  0.00  0.00   0.00  \n",
      "jane             0.00  0.00  0.00   0.00  \n",
      "austen           0.00  0.00  0.00   0.00  \n",
      "1811             0.00  0.00  0.00   0.00  \n",
      "...               ...   ...   ...    ...  \n",
      "hymn             1.19  1.27  1.50   4.46  \n",
      "children         1.79  1.95  2.33   5.87  \n",
      "fort             1.95  2.74  3.22   7.03  \n",
      "sand             2.33  3.22  4.45   8.41  \n",
      "eve              5.87  7.03  8.41  13.28  \n",
      "\n",
      "[336 rows x 336 columns]\n"
     ]
    }
   ],
   "source": [
    "ppmi_sliding_window_5 = ppmi_matrix(corpus, 5)\n",
    "print(\"\\nPPMI with sliding window length 5:\")\n",
    "print(ppmi_sliding_window_5)\n"
   ]
  },
  {
   "cell_type": "markdown",
   "metadata": {},
   "source": [
    "## Normalized PPMI sliding window (5)"
   ]
  },
  {
   "cell_type": "code",
   "execution_count": 25,
   "metadata": {},
   "outputs": [
    {
     "name": "stdout",
     "output_type": "stream",
     "text": [
      "\n",
      "Normalized PPMI with sliding window length 5:\n",
      "             sense  sensibility  jane  austen  1811  chapter     1  family  \\\n",
      "sense          1.0         1.00  1.00    1.00  1.00     0.50  0.50    0.50   \n",
      "sensibility    1.0         0.97  0.93    0.88  0.82     0.72  0.50    0.50   \n",
      "jane           1.0         0.93  0.91    0.85  0.78     0.72  0.63    0.50   \n",
      "austen         1.0         0.88  0.85    0.83  0.77     0.73  0.67    0.60   \n",
      "1811           1.0         0.82  0.78    0.77  0.76     0.73  0.69    0.64   \n",
      "...            ...          ...   ...     ...   ...      ...   ...     ...   \n",
      "hymn           0.5         0.50  0.50    0.50  0.50     0.50  0.50    0.50   \n",
      "children       0.5         0.50  0.50    0.50  0.50     0.50  0.50    0.50   \n",
      "fort           0.5         0.50  0.50    0.50  0.50     0.50  0.50    0.50   \n",
      "sand           0.5         0.50  0.50    0.50  0.50     0.50  0.50    0.50   \n",
      "eve            0.5         0.50  0.50    0.50  0.50     0.50  0.50    0.50   \n",
      "\n",
      "             dashwood  long  ...  thus  fail  black  baal  block  hymn  \\\n",
      "sense            0.50   0.5  ...   0.5  0.50   0.50  0.50   0.50  0.50   \n",
      "sensibility      0.50   0.5  ...   0.5  0.50   0.50  0.50   0.50  0.50   \n",
      "jane             0.50   0.5  ...   0.5  0.50   0.50  0.50   0.50  0.50   \n",
      "austen           0.50   0.5  ...   0.5  0.50   0.50  0.50   0.50  0.50   \n",
      "1811             0.57   0.5  ...   0.5  0.50   0.50  0.50   0.50  0.50   \n",
      "...               ...   ...  ...   ...   ...    ...   ...    ...   ...   \n",
      "hymn             0.50   0.5  ...   0.5  0.57   0.64  0.69   0.73  0.76   \n",
      "children         0.50   0.5  ...   0.5  0.50   0.59  0.67   0.72  0.77   \n",
      "fort             0.50   0.5  ...   0.5  0.50   0.50  0.63   0.72  0.78   \n",
      "sand             0.50   0.5  ...   0.5  0.50   0.50  0.50   0.71  0.82   \n",
      "eve              0.50   0.5  ...   0.5  0.50   0.50  0.50   0.50  0.99   \n",
      "\n",
      "             children  fort  sand   eve  \n",
      "sense            0.50  0.50  0.50  0.50  \n",
      "sensibility      0.50  0.50  0.50  0.50  \n",
      "jane             0.50  0.50  0.50  0.50  \n",
      "austen           0.50  0.50  0.50  0.50  \n",
      "1811             0.50  0.50  0.50  0.50  \n",
      "...               ...   ...   ...   ...  \n",
      "hymn             0.77  0.78  0.82  0.99  \n",
      "children         0.86  0.87  0.91  1.00  \n",
      "fort             0.87  0.94  0.96  1.00  \n",
      "sand             0.91  0.96  0.99  1.00  \n",
      "eve              1.00  1.00  1.00  1.00  \n",
      "\n",
      "[336 rows x 336 columns]\n"
     ]
    }
   ],
   "source": [
    "ppmi_sliding_window_5_normalized = ppmi_matrix(corpus, 5, True)\n",
    "print(\"\\nNormalized PPMI with sliding window length 5:\")\n",
    "print(ppmi_sliding_window_5_normalized)"
   ]
  },
  {
   "cell_type": "markdown",
   "metadata": {},
   "source": [
    "## Example"
   ]
  },
  {
   "cell_type": "code",
   "execution_count": 26,
   "metadata": {},
   "outputs": [
    {
     "data": {
      "text/plain": [
       "0.96"
      ]
     },
     "execution_count": 26,
     "metadata": {},
     "output_type": "execute_result"
    }
   ],
   "source": [
    "t_t_sliding_window_normalized['fort']['sand']"
   ]
  }
 ],
 "metadata": {
  "kernelspec": {
   "display_name": "Python 3 (ipykernel)",
   "language": "python",
   "name": "python3"
  },
  "language_info": {
   "codemirror_mode": {
    "name": "ipython",
    "version": 3
   },
   "file_extension": ".py",
   "mimetype": "text/x-python",
   "name": "python",
   "nbconvert_exporter": "python",
   "pygments_lexer": "ipython3",
   "version": "3.9.12"
  }
 },
 "nbformat": 4,
 "nbformat_minor": 2
}
